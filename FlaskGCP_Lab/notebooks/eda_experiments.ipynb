{
 "cells": [
  {
   "cell_type": "code",
   "execution_count": null,
   "id": "1f20ab8b",
   "metadata": {
    "vscode": {
     "languageId": "plaintext"
    }
   },
   "outputs": [],
   "source": []
  },
  {
   "cell_type": "markdown",
   "id": "1f2d9cca",
   "metadata": {},
   "source": [
    "[HF datasets] → [Ingest/Cache] → [Chunk+Metadata] → [Embed] → [Index]\n",
    "                                         |                 ↑\n",
    "                                         v                 |\n",
    "                                    [Query Router] → [Retrieve]\n",
    "                                         |                 |\n",
    "                                         v                 v\n",
    "                                 [Structured Extractor]  [Summarizer]\n",
    "                                         |                 |\n",
    "                                         └───[Normalizer/Validator]───┘\n",
    "                                                   |\n",
    "                                              [Fusion & Cache]\n",
    "                                                   |\n",
    "                                               [Report/API]\n"
   ]
  },
  {
   "cell_type": "code",
   "execution_count": null,
   "id": "7f9b44ef",
   "metadata": {
    "vscode": {
     "languageId": "plaintext"
    }
   },
   "outputs": [],
   "source": [
    "# Notebook bootstrap\n",
    "from pathlib import Path\n",
    "import sys, os\n",
    "\n",
    "# point Python to your ./src so `import` works\n",
    "PROJECT_ROOT = Path.cwd().resolve()\n",
    "SRC = PROJECT_ROOT / \"src\"\n",
    "if str(SRC) not in sys.path:\n",
    "    sys.path.insert(0, str(SRC))\n",
    "\n",
    "# Load env vars (reads assets/config.env you already have)\n",
    "from dotenv import load_dotenv\n",
    "load_dotenv(PROJECT_ROOT / \"assets\" / \"config.env\")\n",
    "\n",
    "# Optional: autoreload so edits in src/ reflect without restarting kernel\n",
    "%load_ext autoreload\n",
    "%autoreload 2\n"
   ]
  }
 ],
 "metadata": {
  "language_info": {
   "name": "python"
  }
 },
 "nbformat": 4,
 "nbformat_minor": 5
}
